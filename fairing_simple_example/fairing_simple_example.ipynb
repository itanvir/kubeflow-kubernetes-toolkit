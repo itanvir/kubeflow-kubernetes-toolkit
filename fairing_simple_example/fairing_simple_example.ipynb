{
 "cells": [
  {
   "cell_type": "code",
   "execution_count": 2,
   "metadata": {},
   "outputs": [],
   "source": [
    "from kubeflow import fairing\n",
    "from kubeflow.fairing import TrainJob\n",
    "from kubeflow.fairing.backends import KubeflowAWSBackend\n",
    "from kubeflow.fairing.kubernetes.utils import get_resource_mutator"
   ]
  },
  {
   "cell_type": "code",
   "execution_count": 3,
   "metadata": {},
   "outputs": [],
   "source": [
    "DOCKER_REGISTRY=\"958854133286.dkr.ecr.us-east-1.amazonaws.com\""
   ]
  },
  {
   "cell_type": "markdown",
   "metadata": {},
   "source": [
    "## Executing a python file"
   ]
  },
  {
   "cell_type": "code",
   "execution_count": 3,
   "metadata": {},
   "outputs": [
    {
     "name": "stdout",
     "output_type": "stream",
     "text": [
      "Overwriting train.py\n"
     ]
    }
   ],
   "source": [
    "%%writefile train.py\n",
    "print(\"hello world!\")"
   ]
  },
  {
   "cell_type": "code",
   "execution_count": 4,
   "metadata": {
    "scrolled": true
   },
   "outputs": [
    {
     "name": "stderr",
     "output_type": "stream",
     "text": [
      "[W 200512 17:31:10 tasks:54] Using default base docker image: registry.hub.docker.com/library/python:3.6.8\n",
      "[W 200512 17:31:11 tasks:62] Using builder: <class 'kubeflow.fairing.builders.append.append.AppendBuilder'>\n",
      "[I 200512 17:31:11 tasks:66] Building the docker image.\n",
      "[W 200512 17:31:11 append:50] Building image using Append builder...\n",
      "[I 200512 17:31:11 base:107] Creating docker context: /tmp/fairing_context__obxoj57\n",
      "[I 200512 17:31:11 docker_creds_:234] Loading Docker credentials for repository 'registry.hub.docker.com/library/python:3.6.8'\n",
      "[W 200512 17:31:12 append:54] Image successfully built in 0.4523150679888204s.\n",
      "[W 200512 17:31:12 append:94] Pushing image 958854133286.dkr.ecr.us-east-1.amazonaws.com/fairing-job:59D66552...\n",
      "[I 200512 17:31:12 docker_creds_:234] Loading Docker credentials for repository '958854133286.dkr.ecr.us-east-1.amazonaws.com/fairing-job:59D66552'\n",
      "[W 200512 17:31:12 append:81] Uploading 958854133286.dkr.ecr.us-east-1.amazonaws.com/fairing-job:59D66552\n",
      "[I 200512 17:31:12 docker_session_:280] Layer sha256:1865698adfb04b47d1aa53e0f8dac0a511d78285cb4dda39b4f3b0b3b091bb2e exists, skipping\n",
      "[I 200512 17:31:12 docker_session_:280] Layer sha256:494c27a8a6b820f9167ec7e368b3a9bb47d7029f4dc8c97c67091f3757a5bc4e exists, skipping\n",
      "[I 200512 17:31:12 docker_session_:280] Layer sha256:615db220d76c063138a2e6c5849703a7a80d682a682f7e1a841e6e7ed5f43879 exists, skipping\n",
      "[I 200512 17:31:12 docker_session_:280] Layer sha256:7596bb83081b6c8410df557d538a0ae45922cbf81e469c6f4cfa835247cb24ab exists, skipping\n",
      "[I 200512 17:31:12 docker_session_:280] Layer sha256:7159b3304cc0ff68a7903c2660aa37fdae97a02164449400c6ef283a6aaf3879 exists, skipping\n",
      "[I 200512 17:31:12 docker_session_:280] Layer sha256:372744b62d49eba993652ee4a1201801fe278b687d85489101e07e7b9a4900e0 exists, skipping\n",
      "[I 200512 17:31:12 docker_session_:280] Layer sha256:7ba59390457320287875a9c381fee7936b50ecfd21abfe3c50278ac2f39b9786 exists, skipping\n",
      "[I 200512 17:31:12 docker_session_:280] Layer sha256:ad0713808ef687d1e541819f50497506f5dce12604d1af54dbae153d61d5cf21 exists, skipping\n",
      "[I 200512 17:31:12 docker_session_:280] Layer sha256:da8ccfdb3001748ee60cebb8cbdb4f2f0962d00e1bf95fa1b16b6ff723a290f7 exists, skipping\n",
      "[I 200512 17:31:12 docker_session_:280] Layer sha256:6f2f362378c5a6fd915d96d11dda1e0223ccf213bf121ace56ae0f6616ea1dc8 exists, skipping\n",
      "[I 200512 17:31:12 docker_session_:284] Layer sha256:3aa17c147899046374ddd00203725d271f7122b11f5038426645d6e97443df6a pushed.\n",
      "[I 200512 17:31:12 docker_session_:334] Finished upload of: 958854133286.dkr.ecr.us-east-1.amazonaws.com/fairing-job:59D66552\n",
      "[W 200512 17:31:12 append:99] Pushed image 958854133286.dkr.ecr.us-east-1.amazonaws.com/fairing-job:59D66552 in 0.6565830640029162s.\n",
      "[W 200512 17:31:12 aws:70] Not able to find aws credentials secret: aws-secret\n",
      "[W 200512 17:31:12 job:101] The job fairing-job-z8lb4 launched.\n",
      "[W 200512 17:31:13 manager:296] Waiting for fairing-job-z8lb4-szbc2 to start...\n",
      "[W 200512 17:31:13 manager:296] Waiting for fairing-job-z8lb4-szbc2 to start...\n",
      "[W 200512 17:31:13 manager:296] Waiting for fairing-job-z8lb4-szbc2 to start...\n",
      "[I 200512 17:31:15 manager:302] Pod started running False\n",
      "[W 200512 17:31:15 job:173] Cleaning up job fairing-job-z8lb4...\n"
     ]
    },
    {
     "name": "stdout",
     "output_type": "stream",
     "text": [
      "hello worl!\n"
     ]
    },
    {
     "data": {
      "text/plain": [
       "'fairing-job-z8lb4'"
      ]
     },
     "execution_count": 4,
     "metadata": {},
     "output_type": "execute_result"
    }
   ],
   "source": [
    "job = TrainJob(\"train.py\", docker_registry=DOCKER_REGISTRY, backend=KubeflowAWSBackend())\n",
    "job.submit()"
   ]
  },
  {
   "cell_type": "markdown",
   "metadata": {},
   "source": [
    "## Executing a python function"
   ]
  },
  {
   "cell_type": "code",
   "execution_count": 5,
   "metadata": {},
   "outputs": [],
   "source": [
    "def train():\n",
    "    print(\"simple train job!\")"
   ]
  },
  {
   "cell_type": "code",
   "execution_count": 6,
   "metadata": {},
   "outputs": [
    {
     "name": "stderr",
     "output_type": "stream",
     "text": [
      "[W 200512 17:32:07 tasks:54] Using default base docker image: registry.hub.docker.com/library/python:3.6.8\n",
      "[W 200512 17:32:07 tasks:62] Using builder: <class 'kubeflow.fairing.builders.append.append.AppendBuilder'>\n",
      "[I 200512 17:32:07 tasks:66] Building the docker image.\n",
      "[W 200512 17:32:07 append:50] Building image using Append builder...\n",
      "[I 200512 17:32:07 base:107] Creating docker context: /tmp/fairing_context_73a1uiqb\n",
      "[W 200512 17:32:07 base:94] /home/jovyan/.local/lib/python3.6/site-packages/kubeflow/fairing/__init__.py already exists in Fairing context, skipping...\n",
      "[I 200512 17:32:07 docker_creds_:234] Loading Docker credentials for repository 'registry.hub.docker.com/library/python:3.6.8'\n",
      "[W 200512 17:32:07 append:54] Image successfully built in 0.3155296159675345s.\n",
      "[W 200512 17:32:07 append:94] Pushing image 958854133286.dkr.ecr.us-east-1.amazonaws.com/fairing-job:99AAFCEE...\n",
      "[I 200512 17:32:07 docker_creds_:234] Loading Docker credentials for repository '958854133286.dkr.ecr.us-east-1.amazonaws.com/fairing-job:99AAFCEE'\n",
      "[W 200512 17:32:07 append:81] Uploading 958854133286.dkr.ecr.us-east-1.amazonaws.com/fairing-job:99AAFCEE\n",
      "[I 200512 17:32:07 docker_session_:280] Layer sha256:494c27a8a6b820f9167ec7e368b3a9bb47d7029f4dc8c97c67091f3757a5bc4e exists, skipping\n",
      "[I 200512 17:32:07 docker_session_:280] Layer sha256:1865698adfb04b47d1aa53e0f8dac0a511d78285cb4dda39b4f3b0b3b091bb2e exists, skipping\n",
      "[I 200512 17:32:07 docker_session_:280] Layer sha256:7159b3304cc0ff68a7903c2660aa37fdae97a02164449400c6ef283a6aaf3879 exists, skipping\n",
      "[I 200512 17:32:07 docker_session_:280] Layer sha256:615db220d76c063138a2e6c5849703a7a80d682a682f7e1a841e6e7ed5f43879 exists, skipping\n",
      "[I 200512 17:32:07 docker_session_:280] Layer sha256:372744b62d49eba993652ee4a1201801fe278b687d85489101e07e7b9a4900e0 exists, skipping\n",
      "[I 200512 17:32:07 docker_session_:280] Layer sha256:7ba59390457320287875a9c381fee7936b50ecfd21abfe3c50278ac2f39b9786 exists, skipping\n",
      "[I 200512 17:32:07 docker_session_:280] Layer sha256:ad0713808ef687d1e541819f50497506f5dce12604d1af54dbae153d61d5cf21 exists, skipping\n",
      "[I 200512 17:32:07 docker_session_:280] Layer sha256:7596bb83081b6c8410df557d538a0ae45922cbf81e469c6f4cfa835247cb24ab exists, skipping\n",
      "[I 200512 17:32:07 docker_session_:280] Layer sha256:6f2f362378c5a6fd915d96d11dda1e0223ccf213bf121ace56ae0f6616ea1dc8 exists, skipping\n",
      "[I 200512 17:32:08 docker_session_:284] Layer sha256:8606187c4582b58fa6feaf100ffec738371627dedd6c83d2e117dbbeb4ea867e pushed.\n",
      "[I 200512 17:32:08 docker_session_:284] Layer sha256:f8d6630a0d8a427e7273593e4e2ba3c169b6832a48f2a5d8694d8d35ab7d8e86 pushed.\n",
      "[I 200512 17:32:08 docker_session_:334] Finished upload of: 958854133286.dkr.ecr.us-east-1.amazonaws.com/fairing-job:99AAFCEE\n",
      "[W 200512 17:32:08 append:99] Pushed image 958854133286.dkr.ecr.us-east-1.amazonaws.com/fairing-job:99AAFCEE in 1.089199697948061s.\n",
      "[W 200512 17:32:08 aws:70] Not able to find aws credentials secret: aws-secret\n",
      "[W 200512 17:32:08 job:101] The job fairing-job-kx9xd launched.\n",
      "[W 200512 17:32:08 manager:296] Waiting for fairing-job-kx9xd-d2m5d to start...\n",
      "[W 200512 17:32:08 manager:296] Waiting for fairing-job-kx9xd-d2m5d to start...\n",
      "[W 200512 17:32:08 manager:296] Waiting for fairing-job-kx9xd-d2m5d to start...\n",
      "[I 200512 17:32:10 manager:302] Pod started running True\n"
     ]
    },
    {
     "name": "stdout",
     "output_type": "stream",
     "text": [
      "simple train job!\n"
     ]
    },
    {
     "name": "stderr",
     "output_type": "stream",
     "text": [
      "[W 200512 17:32:12 job:173] Cleaning up job fairing-job-kx9xd...\n"
     ]
    },
    {
     "data": {
      "text/plain": [
       "'fairing-job-kx9xd'"
      ]
     },
     "execution_count": 6,
     "metadata": {},
     "output_type": "execute_result"
    }
   ],
   "source": [
    "job = TrainJob(train, docker_registry=DOCKER_REGISTRY, backend=KubeflowAWSBackend())\n",
    "job.submit()"
   ]
  },
  {
   "cell_type": "markdown",
   "metadata": {},
   "source": [
    "## Executing a complete notebook"
   ]
  },
  {
   "cell_type": "code",
   "execution_count": 8,
   "metadata": {},
   "outputs": [
    {
     "name": "stdout",
     "output_type": "stream",
     "text": [
      "Overwriting requirements.txt\n"
     ]
    }
   ],
   "source": [
    "%%writefile requirements.txt\n",
    "papermill\n",
    "jupyter"
   ]
  },
  {
   "cell_type": "code",
   "execution_count": 16,
   "metadata": {
    "scrolled": true
   },
   "outputs": [
    {
     "name": "stderr",
     "output_type": "stream",
     "text": [
      "[W 200512 17:54:40 tasks:54] Using default base docker image: registry.hub.docker.com/library/python:3.6.8\n",
      "[W 200512 17:54:40 tasks:62] Using builder: <class 'kubeflow.fairing.builders.cluster.cluster.ClusterBuilder'>\n",
      "[I 200512 17:54:40 tasks:66] Building the docker image.\n",
      "[I 200512 17:54:40 cluster:46] Building image using cluster builder.\n",
      "[I 200512 17:54:40 base:107] Creating docker context: /tmp/fairing_context_r4trv2w6\n",
      "[W 200512 17:54:41 aws:70] Not able to find aws credentials secret: aws-secret\n",
      "[W 200512 17:54:41 manager:296] Waiting for fairing-builder-7wgpn-r2rf5 to start...\n",
      "[W 200512 17:54:41 manager:296] Waiting for fairing-builder-7wgpn-r2rf5 to start...\n",
      "[W 200512 17:54:41 manager:296] Waiting for fairing-builder-7wgpn-r2rf5 to start...\n",
      "[I 200512 17:54:43 manager:302] Pod started running True\n"
     ]
    },
    {
     "name": "stdout",
     "output_type": "stream",
     "text": [
      "\u001b[36mINFO\u001b[0m[0000] Resolved base name registry.hub.docker.com/library/python:3.6.8 to registry.hub.docker.com/library/python:3.6.8\n",
      "\u001b[36mINFO\u001b[0m[0000] Resolved base name registry.hub.docker.com/library/python:3.6.8 to registry.hub.docker.com/library/python:3.6.8\n",
      "\u001b[36mINFO\u001b[0m[0000] Downloading base image registry.hub.docker.com/library/python:3.6.8\n",
      "\u001b[36mINFO\u001b[0m[0000] Error while retrieving image from cache: getting file info: stat /cache/sha256:e2b625c433e2e3c9a72eb92483c7e6ebe32163e320258f6a60badc44d9eb2806: no such file or directory\n",
      "\u001b[36mINFO\u001b[0m[0000] Downloading base image registry.hub.docker.com/library/python:3.6.8\n",
      "\u001b[36mINFO\u001b[0m[0000] Built cross stage deps: map[]\n",
      "\u001b[36mINFO\u001b[0m[0000] Downloading base image registry.hub.docker.com/library/python:3.6.8\n",
      "\u001b[36mINFO\u001b[0m[0000] Error while retrieving image from cache: getting file info: stat /cache/sha256:e2b625c433e2e3c9a72eb92483c7e6ebe32163e320258f6a60badc44d9eb2806: no such file or directory\n",
      "\u001b[36mINFO\u001b[0m[0000] Downloading base image registry.hub.docker.com/library/python:3.6.8\n",
      "\u001b[36mINFO\u001b[0m[0001] Unpacking rootfs as cmd COPY /app//requirements.txt /app/ requires it.\n",
      "\u001b[36mINFO\u001b[0m[0018] Taking snapshot of full filesystem...\n",
      "\u001b[36mINFO\u001b[0m[0024] WORKDIR /app/\n",
      "\u001b[36mINFO\u001b[0m[0024] cmd: workdir\n",
      "\u001b[36mINFO\u001b[0m[0024] Changed working directory to /app/\n",
      "\u001b[36mINFO\u001b[0m[0024] Creating directory /app/\n",
      "\u001b[36mINFO\u001b[0m[0024] Taking snapshot of files...\n",
      "\u001b[36mINFO\u001b[0m[0024] ENV FAIRING_RUNTIME 1\n",
      "\u001b[36mINFO\u001b[0m[0024] Using files from context: [/kaniko/buildcontext/app/requirements.txt]\n",
      "\u001b[36mINFO\u001b[0m[0024] COPY /app//requirements.txt /app/\n",
      "\u001b[36mINFO\u001b[0m[0024] Taking snapshot of files...\n",
      "\u001b[36mINFO\u001b[0m[0024] RUN if [ -e requirements.txt ];then pip install --no-cache -r requirements.txt; fi\n",
      "\u001b[36mINFO\u001b[0m[0024] cmd: /bin/sh\n",
      "\u001b[36mINFO\u001b[0m[0024] args: [-c if [ -e requirements.txt ];then pip install --no-cache -r requirements.txt; fi]\n",
      "Collecting papermill (from -r requirements.txt (line 1))\n",
      "  Downloading https://files.pythonhosted.org/packages/ed/70/69799316f1b92bc3518f1bbb71a8aaa2406e05ef73f15edf2b98fc23901c/papermill-2.1.1-py3-none-any.whl\n",
      "Collecting jupyter (from -r requirements.txt (line 2))\n",
      "  Downloading https://files.pythonhosted.org/packages/83/df/0f5dd132200728a86190397e1ea87cd76244e42d39ec5e88efd25b2abd7e/jupyter-1.0.0-py2.py3-none-any.whl\n",
      "Collecting pyyaml (from papermill->-r requirements.txt (line 1))\n",
      "  Downloading https://files.pythonhosted.org/packages/64/c2/b80047c7ac2478f9501676c988a5411ed5572f35d1beff9cae07d321512c/PyYAML-5.3.1.tar.gz (269kB)\n",
      "Collecting nbformat (from papermill->-r requirements.txt (line 1))\n",
      "  Downloading https://files.pythonhosted.org/packages/d5/3c/251cfe5e3c9545ece107d342909ee3822d8cd9f3f11a591df37baeff2089/nbformat-5.0.6-py3-none-any.whl (170kB)\n",
      "Collecting ansiwrap (from papermill->-r requirements.txt (line 1))\n",
      "  Downloading https://files.pythonhosted.org/packages/03/50/43e775a63e0d632d9be3b3fa1c9b2cbaf3b7870d203655710a3426f47c26/ansiwrap-0.8.4-py2.py3-none-any.whl\n",
      "Collecting click (from papermill->-r requirements.txt (line 1))\n",
      "  Downloading https://files.pythonhosted.org/packages/d2/3d/fa76db83bf75c4f8d338c2fd15c8d33fdd7ad23a9b5e57eb6c5de26b430e/click-7.1.2-py2.py3-none-any.whl (82kB)\n",
      "Collecting requests (from papermill->-r requirements.txt (line 1))\n",
      "  Downloading https://files.pythonhosted.org/packages/1a/70/1935c770cb3be6e3a8b78ced23d7e0f3b187f5cbfab4749523ed65d7c9b1/requests-2.23.0-py2.py3-none-any.whl (58kB)\n",
      "Collecting tqdm>=4.32.2 (from papermill->-r requirements.txt (line 1))\n",
      "  Downloading https://files.pythonhosted.org/packages/c9/40/058b12e8ba10e35f89c9b1fdfc2d4c7f8c05947df2d5eb3c7b258019fda0/tqdm-4.46.0-py2.py3-none-any.whl (63kB)\n",
      "Collecting black (from papermill->-r requirements.txt (line 1))\n",
      "  Downloading https://files.pythonhosted.org/packages/fd/bb/ad34bbc93d1bea3de086d7c59e528d4a503ac8fe318bd1fa48605584c3d2/black-19.10b0-py36-none-any.whl (97kB)\n",
      "Collecting tenacity (from papermill->-r requirements.txt (line 1))\n",
      "  Downloading https://files.pythonhosted.org/packages/b5/05/ff089032442058bd3386f9cd991cd88ccac81dca1494d78751621ee35e62/tenacity-6.2.0-py2.py3-none-any.whl\n",
      "Collecting nbclient>=0.2.0 (from papermill->-r requirements.txt (line 1))\n",
      "  Downloading https://files.pythonhosted.org/packages/26/d9/cdd989307b1adfd7011e4c7037a5b0dfa8137765e132f1506b5ab838127c/nbclient-0.2.0-py3-none-any.whl (53kB)\n",
      "Collecting jupyter-client (from papermill->-r requirements.txt (line 1))\n",
      "  Downloading https://files.pythonhosted.org/packages/34/0b/2ebddf775f558158ca8df23b35445fb15d4b1558a9e4a03bc7e75b13476e/jupyter_client-6.1.3-py3-none-any.whl (106kB)\n",
      "Collecting entrypoints (from papermill->-r requirements.txt (line 1))\n",
      "  Downloading https://files.pythonhosted.org/packages/ac/c6/44694103f8c221443ee6b0041f69e2740d89a25641e62fb4f2ee568f2f9c/entrypoints-0.3-py2.py3-none-any.whl\n",
      "Collecting jupyter-console (from jupyter->-r requirements.txt (line 2))\n",
      "  Downloading https://files.pythonhosted.org/packages/0a/89/742fa5a80b552ffcb6a8922712697c6e6828aee7b91ee4ae2b79f00f8401/jupyter_console-6.1.0-py2.py3-none-any.whl\n",
      "Collecting ipywidgets (from jupyter->-r requirements.txt (line 2))\n",
      "  Downloading https://files.pythonhosted.org/packages/56/a0/dbcf5881bb2f51e8db678211907f16ea0a182b232c591a6d6f276985ca95/ipywidgets-7.5.1-py2.py3-none-any.whl (121kB)\n",
      "Collecting qtconsole (from jupyter->-r requirements.txt (line 2))\n",
      "  Downloading https://files.pythonhosted.org/packages/31/ab/269bc5300d4369a4679cf676c4705aabf2071c2f2d3a211205aca86a1fd6/qtconsole-4.7.3-py2.py3-none-any.whl (117kB)\n",
      "Collecting ipykernel (from jupyter->-r requirements.txt (line 2))\n",
      "  Downloading https://files.pythonhosted.org/packages/ed/5d/cf47741fa80826f8edf435d9bcf0e84eef2d6d02953ff85e0563b3ab3f0b/ipykernel-5.2.1-py3-none-any.whl (118kB)\n",
      "Collecting nbconvert (from jupyter->-r requirements.txt (line 2))\n",
      "  Downloading https://files.pythonhosted.org/packages/79/6c/05a569e9f703d18aacb89b7ad6075b404e8a4afde2c26b73ca77bb644b14/nbconvert-5.6.1-py2.py3-none-any.whl (455kB)\n",
      "Collecting notebook (from jupyter->-r requirements.txt (line 2))\n",
      "  Downloading https://files.pythonhosted.org/packages/b1/f1/0a67f09ef53a342403ffa66646ee39273e0ac79ffa5de5dbe2f3e28b5bdf/notebook-6.0.3-py3-none-any.whl (9.7MB)\n",
      "Collecting jsonschema!=2.5.0,>=2.4 (from nbformat->papermill->-r requirements.txt (line 1))\n",
      "  Downloading https://files.pythonhosted.org/packages/c5/8f/51e89ce52a085483359217bc72cdbf6e75ee595d5b1d4b5ade40c7e018b8/jsonschema-3.2.0-py2.py3-none-any.whl (56kB)\n",
      "Collecting ipython-genutils (from nbformat->papermill->-r requirements.txt (line 1))\n",
      "  Downloading https://files.pythonhosted.org/packages/fa/bc/9bd3b5c2b4774d5f33b2d544f1460be9df7df2fe42f352135381c347c69a/ipython_genutils-0.2.0-py2.py3-none-any.whl\n",
      "Collecting traitlets>=4.1 (from nbformat->papermill->-r requirements.txt (line 1))\n",
      "  Downloading https://files.pythonhosted.org/packages/ca/ab/872a23e29cec3cf2594af7e857f18b687ad21039c1f9b922fac5b9b142d5/traitlets-4.3.3-py2.py3-none-any.whl (75kB)\n",
      "Collecting jupyter-core (from nbformat->papermill->-r requirements.txt (line 1))\n",
      "  Downloading https://files.pythonhosted.org/packages/63/0d/df2d17cdf389cea83e2efa9a4d32f7d527ba78667e0153a8e676e957b2f7/jupyter_core-4.6.3-py2.py3-none-any.whl (83kB)\n",
      "Collecting textwrap3>=0.9.2 (from ansiwrap->papermill->-r requirements.txt (line 1))\n",
      "  Downloading https://files.pythonhosted.org/packages/77/9c/a53e561d496ee5866bbeea4d3a850b3b545ed854f8a21007c1e0d872e94d/textwrap3-0.9.2-py2.py3-none-any.whl\n",
      "Collecting idna<3,>=2.5 (from requests->papermill->-r requirements.txt (line 1))\n",
      "  Downloading https://files.pythonhosted.org/packages/89/e3/afebe61c546d18fb1709a61bee788254b40e736cff7271c7de5de2dc4128/idna-2.9-py2.py3-none-any.whl (58kB)\n",
      "Collecting urllib3!=1.25.0,!=1.25.1,<1.26,>=1.21.1 (from requests->papermill->-r requirements.txt (line 1))\n",
      "  Downloading https://files.pythonhosted.org/packages/e1/e5/df302e8017440f111c11cc41a6b432838672f5a70aa29227bf58149dc72f/urllib3-1.25.9-py2.py3-none-any.whl (126kB)\n",
      "Collecting chardet<4,>=3.0.2 (from requests->papermill->-r requirements.txt (line 1))\n",
      "  Downloading https://files.pythonhosted.org/packages/bc/a9/01ffebfb562e4274b6487b4bb1ddec7ca55ec7510b22e4c51f14098443b8/chardet-3.0.4-py2.py3-none-any.whl (133kB)\n",
      "Collecting certifi>=2017.4.17 (from requests->papermill->-r requirements.txt (line 1))\n",
      "  Downloading https://files.pythonhosted.org/packages/57/2b/26e37a4b034800c960a00c4e1b3d9ca5d7014e983e6e729e33ea2f36426c/certifi-2020.4.5.1-py2.py3-none-any.whl (157kB)\n",
      "Collecting attrs>=18.1.0 (from black->papermill->-r requirements.txt (line 1))\n",
      "  Downloading https://files.pythonhosted.org/packages/a2/db/4313ab3be961f7a763066401fb77f7748373b6094076ae2bda2806988af6/attrs-19.3.0-py2.py3-none-any.whl\n",
      "Collecting pathspec<1,>=0.6 (from black->papermill->-r requirements.txt (line 1))\n",
      "  Downloading https://files.pythonhosted.org/packages/5d/d0/887c58853bd4b6ffc7aa9cdba4fc57d7b979b45888a6bd47e4568e1cf868/pathspec-0.8.0-py2.py3-none-any.whl\n",
      "Collecting appdirs (from black->papermill->-r requirements.txt (line 1))\n",
      "  Downloading https://files.pythonhosted.org/packages/3b/00/2344469e2084fb287c2e0b57b72910309874c3245463acd6cf5e3db69324/appdirs-1.4.4-py2.py3-none-any.whl\n",
      "Collecting toml>=0.9.4 (from black->papermill->-r requirements.txt (line 1))\n",
      "  Downloading https://files.pythonhosted.org/packages/a2/12/ced7105d2de62fa7c8fb5fce92cc4ce66b57c95fb875e9318dba7f8c5db0/toml-0.10.0-py2.py3-none-any.whl\n",
      "Collecting regex (from black->papermill->-r requirements.txt (line 1))\n",
      "  Downloading https://files.pythonhosted.org/packages/b9/38/8448099a171e82b4cec5f293634377430ceef14cdf29b948ff93a597262a/regex-2020.5.7-cp36-cp36m-manylinux2010_x86_64.whl (675kB)\n",
      "Collecting typed-ast>=1.4.0 (from black->papermill->-r requirements.txt (line 1))\n",
      "  Downloading https://files.pythonhosted.org/packages/90/ed/5459080d95eb87a02fe860d447197be63b6e2b5e9ff73c2b0a85622994f4/typed_ast-1.4.1-cp36-cp36m-manylinux1_x86_64.whl (737kB)\n",
      "Collecting six>=1.9.0 (from tenacity->papermill->-r requirements.txt (line 1))\n",
      "  Downloading https://files.pythonhosted.org/packages/65/eb/1f97cb97bfc2390a276969c6fae16075da282f5058082d4cb10c6c5c1dba/six-1.14.0-py2.py3-none-any.whl\n",
      "Collecting async-generator (from nbclient>=0.2.0->papermill->-r requirements.txt (line 1))\n",
      "  Downloading https://files.pythonhosted.org/packages/71/52/39d20e03abd0ac9159c162ec24b93fbcaa111e8400308f2465432495ca2b/async_generator-1.10-py3-none-any.whl\n",
      "Collecting nest-asyncio (from nbclient>=0.2.0->papermill->-r requirements.txt (line 1))\n",
      "  Downloading https://files.pythonhosted.org/packages/74/b4/b24e0a271fb78990c2c62238321686454824b1357ce7abcf20f431fd903d/nest_asyncio-1.3.3-py3-none-any.whl\n",
      "Collecting tornado>=4.1 (from jupyter-client->papermill->-r requirements.txt (line 1))\n",
      "  Downloading https://files.pythonhosted.org/packages/95/84/119a46d494f008969bf0c775cb2c6b3579d3c4cc1bb1b41a022aa93ee242/tornado-6.0.4.tar.gz (496kB)\n",
      "Collecting pyzmq>=13 (from jupyter-client->papermill->-r requirements.txt (line 1))\n",
      "  Downloading https://files.pythonhosted.org/packages/c9/11/bb28199dd8f186a4053b7dd94a33abf0c1162d99203e7ab32a6b71fa045b/pyzmq-19.0.1-cp36-cp36m-manylinux1_x86_64.whl (1.1MB)\n",
      "Collecting python-dateutil>=2.1 (from jupyter-client->papermill->-r requirements.txt (line 1))\n",
      "  Downloading https://files.pythonhosted.org/packages/d4/70/d60450c3dd48ef87586924207ae8907090de0b306af2bce5d134d78615cb/python_dateutil-2.8.1-py2.py3-none-any.whl (227kB)\n",
      "Collecting ipython (from jupyter-console->jupyter->-r requirements.txt (line 2))\n",
      "  Downloading https://files.pythonhosted.org/packages/b0/00/afc3968a3cdf5f30c5c9dfb8e6a61e63231d6869a461dc1ff418280c5ea4/ipython-7.14.0-py3-none-any.whl (782kB)\n",
      "Collecting prompt-toolkit!=3.0.0,!=3.0.1,<3.1.0,>=2.0.0 (from jupyter-console->jupyter->-r requirements.txt (line 2))\n",
      "  Downloading https://files.pythonhosted.org/packages/e4/a7/81b39aa50e9284fe2cb21cc7fb7de7817b224172d42793fd57451d38842b/prompt_toolkit-3.0.5-py3-none-any.whl (351kB)\n",
      "Collecting pygments (from jupyter-console->jupyter->-r requirements.txt (line 2))\n",
      "  Downloading https://files.pythonhosted.org/packages/2d/68/106af3ae51daf807e9cdcba6a90e518954eb8b70341cee52995540a53ead/Pygments-2.6.1-py3-none-any.whl (914kB)\n",
      "Collecting widgetsnbextension~=3.5.0 (from ipywidgets->jupyter->-r requirements.txt (line 2))\n",
      "  Downloading https://files.pythonhosted.org/packages/6c/7b/7ac231c20d2d33c445eaacf8a433f4e22c60677eb9776c7c5262d7ddee2d/widgetsnbextension-3.5.1-py2.py3-none-any.whl (2.2MB)\n",
      "Collecting qtpy (from qtconsole->jupyter->-r requirements.txt (line 2))\n",
      "  Downloading https://files.pythonhosted.org/packages/cd/fd/9972948f02e967b691cc0ca1f26124826a3b88cb38f412a8b7935b8c3c72/QtPy-1.9.0-py2.py3-none-any.whl (54kB)\n",
      "Collecting testpath (from nbconvert->jupyter->-r requirements.txt (line 2))\n",
      "  Downloading https://files.pythonhosted.org/packages/1b/9e/1a170feaa54f22aeb5a5d16c9015e82234275a3c8ab630b552493f9cb8a9/testpath-0.4.4-py2.py3-none-any.whl (163kB)\n",
      "Collecting jinja2>=2.4 (from nbconvert->jupyter->-r requirements.txt (line 2))\n",
      "  Downloading https://files.pythonhosted.org/packages/30/9e/f663a2aa66a09d838042ae1a2c5659828bb9b41ea3a6efa20a20fd92b121/Jinja2-2.11.2-py2.py3-none-any.whl (125kB)\n",
      "Collecting mistune<2,>=0.8.1 (from nbconvert->jupyter->-r requirements.txt (line 2))\n",
      "  Downloading https://files.pythonhosted.org/packages/09/ec/4b43dae793655b7d8a25f76119624350b4d65eb663459eb9603d7f1f0345/mistune-0.8.4-py2.py3-none-any.whl\n",
      "Collecting defusedxml (from nbconvert->jupyter->-r requirements.txt (line 2))\n",
      "  Downloading https://files.pythonhosted.org/packages/06/74/9b387472866358ebc08732de3da6dc48e44b0aacd2ddaa5cb85ab7e986a2/defusedxml-0.6.0-py2.py3-none-any.whl\n",
      "Collecting bleach (from nbconvert->jupyter->-r requirements.txt (line 2))\n",
      "  Downloading https://files.pythonhosted.org/packages/9a/1e/7d6cb3b27cd2c490558349ca5d5cc05b390b017da1c704cac807ac8bd9fb/bleach-3.1.5-py2.py3-none-any.whl (151kB)\n",
      "Collecting pandocfilters>=1.4.1 (from nbconvert->jupyter->-r requirements.txt (line 2))\n",
      "  Downloading https://files.pythonhosted.org/packages/4c/ea/236e2584af67bb6df960832731a6e5325fd4441de001767da328c33368ce/pandocfilters-1.4.2.tar.gz\n",
      "Collecting Send2Trash (from notebook->jupyter->-r requirements.txt (line 2))\n",
      "  Downloading https://files.pythonhosted.org/packages/49/46/c3dc27481d1cc57b9385aff41c474ceb7714f7935b1247194adae45db714/Send2Trash-1.5.0-py3-none-any.whl\n",
      "Collecting terminado>=0.8.1 (from notebook->jupyter->-r requirements.txt (line 2))\n",
      "  Downloading https://files.pythonhosted.org/packages/ff/96/1d9a2c23990aea8f8e0b5c3b6627d03196a73771a17a2d9860bbe9823ab6/terminado-0.8.3-py2.py3-none-any.whl\n",
      "Collecting prometheus-client (from notebook->jupyter->-r requirements.txt (line 2))\n",
      "  Downloading https://files.pythonhosted.org/packages/b3/23/41a5a24b502d35a4ad50a5bb7202a5e1d9a0364d0c12f56db3dbf7aca76d/prometheus_client-0.7.1.tar.gz\n",
      "Requirement already satisfied: setuptools in /usr/local/lib/python3.6/site-packages (from jsonschema!=2.5.0,>=2.4->nbformat->papermill->-r requirements.txt (line 1)) (41.0.1)\n",
      "Collecting pyrsistent>=0.14.0 (from jsonschema!=2.5.0,>=2.4->nbformat->papermill->-r requirements.txt (line 1))\n",
      "  Downloading https://files.pythonhosted.org/packages/9f/0d/cbca4d0bbc5671822a59f270e4ce3f2195f8a899c97d0d5abb81b191efb5/pyrsistent-0.16.0.tar.gz (108kB)\n",
      "Collecting importlib-metadata; python_version < \"3.8\" (from jsonschema!=2.5.0,>=2.4->nbformat->papermill->-r requirements.txt (line 1))\n",
      "  Downloading https://files.pythonhosted.org/packages/ad/e4/891bfcaf868ccabc619942f27940c77a8a4b45fd8367098955bb7e152fb1/importlib_metadata-1.6.0-py2.py3-none-any.whl\n",
      "Collecting decorator (from traitlets>=4.1->nbformat->papermill->-r requirements.txt (line 1))\n",
      "  Downloading https://files.pythonhosted.org/packages/ed/1b/72a1821152d07cf1d8b6fce298aeb06a7eb90f4d6d41acec9861e7cc6df0/decorator-4.4.2-py2.py3-none-any.whl\n",
      "Collecting pexpect; sys_platform != \"win32\" (from ipython->jupyter-console->jupyter->-r requirements.txt (line 2))\n",
      "  Downloading https://files.pythonhosted.org/packages/39/7b/88dbb785881c28a102619d46423cb853b46dbccc70d3ac362d99773a78ce/pexpect-4.8.0-py2.py3-none-any.whl (59kB)\n",
      "Collecting pickleshare (from ipython->jupyter-console->jupyter->-r requirements.txt (line 2))\n",
      "  Downloading https://files.pythonhosted.org/packages/9a/41/220f49aaea88bc6fa6cba8d05ecf24676326156c23b991e80b3f2fc24c77/pickleshare-0.7.5-py2.py3-none-any.whl\n",
      "Collecting jedi>=0.10 (from ipython->jupyter-console->jupyter->-r requirements.txt (line 2))\n",
      "  Downloading https://files.pythonhosted.org/packages/f3/3f/67f027e18c60a800875df1a0894a2436ce9053637fa39725766e937c0a71/jedi-0.17.0-py2.py3-none-any.whl (1.1MB)\n",
      "Collecting backcall (from ipython->jupyter-console->jupyter->-r requirements.txt (line 2))\n",
      "  Downloading https://files.pythonhosted.org/packages/84/71/c8ca4f5bb1e08401b916c68003acf0a0655df935d74d93bf3f3364b310e0/backcall-0.1.0.tar.gz\n",
      "Collecting wcwidth (from prompt-toolkit!=3.0.0,!=3.0.1,<3.1.0,>=2.0.0->jupyter-console->jupyter->-r requirements.txt (line 2))\n",
      "  Downloading https://files.pythonhosted.org/packages/f6/d5/1ecdac957e3ea12c1b319fcdee8b6917ffaff8b4644d673c4d72d2f20b49/wcwidth-0.1.9-py2.py3-none-any.whl\n",
      "Collecting MarkupSafe>=0.23 (from jinja2>=2.4->nbconvert->jupyter->-r requirements.txt (line 2))\n",
      "  Downloading https://files.pythonhosted.org/packages/b2/5f/23e0023be6bb885d00ffbefad2942bc51a620328ee910f64abe5a8d18dd1/MarkupSafe-1.1.1-cp36-cp36m-manylinux1_x86_64.whl\n",
      "Collecting webencodings (from bleach->nbconvert->jupyter->-r requirements.txt (line 2))\n",
      "  Downloading https://files.pythonhosted.org/packages/f4/24/2a3e3df732393fed8b3ebf2ec078f05546de641fe1b667ee316ec1dcf3b7/webencodings-0.5.1-py2.py3-none-any.whl\n",
      "Collecting packaging (from bleach->nbconvert->jupyter->-r requirements.txt (line 2))\n",
      "  Downloading https://files.pythonhosted.org/packages/62/0a/34641d2bf5c917c96db0ded85ae4da25b6cd922d6b794648d4e7e07c88e5/packaging-20.3-py2.py3-none-any.whl\n",
      "Collecting ptyprocess; os_name != \"nt\" (from terminado>=0.8.1->notebook->jupyter->-r requirements.txt (line 2))\n",
      "  Downloading https://files.pythonhosted.org/packages/d1/29/605c2cc68a9992d18dada28206eeada56ea4bd07a239669da41674648b6f/ptyprocess-0.6.0-py2.py3-none-any.whl\n",
      "Collecting zipp>=0.5 (from importlib-metadata; python_version < \"3.8\"->jsonschema!=2.5.0,>=2.4->nbformat->papermill->-r requirements.txt (line 1))\n",
      "  Downloading https://files.pythonhosted.org/packages/b2/34/bfcb43cc0ba81f527bc4f40ef41ba2ff4080e047acb0586b56b3d017ace4/zipp-3.1.0-py3-none-any.whl\n",
      "Collecting parso>=0.7.0 (from jedi>=0.10->ipython->jupyter-console->jupyter->-r requirements.txt (line 2))\n",
      "  Downloading https://files.pythonhosted.org/packages/b5/61/998cce9e7476de000d031874df26a18f67cb73448164fc44a98f0c55920b/parso-0.7.0-py2.py3-none-any.whl (100kB)\n",
      "Collecting pyparsing>=2.0.2 (from packaging->bleach->nbconvert->jupyter->-r requirements.txt (line 2))\n",
      "  Downloading https://files.pythonhosted.org/packages/8a/bb/488841f56197b13700afd5658fc279a2025a39e22449b7cf29864669b15d/pyparsing-2.4.7-py2.py3-none-any.whl (67kB)\n",
      "Building wheels for collected packages: pyyaml, tornado, pandocfilters, prometheus-client, pyrsistent, backcall\n",
      "  Building wheel for pyyaml (setup.py): started\n",
      "  Building wheel for pyyaml (setup.py): finished with status 'done'\n",
      "  Stored in directory: /tmp/pip-ephem-wheel-cache-cx6t04im/wheels/a7/c1/ea/cf5bd31012e735dc1dfea3131a2d5eae7978b251083d6247bd\n",
      "  Building wheel for tornado (setup.py): started\n",
      "  Building wheel for tornado (setup.py): finished with status 'done'\n",
      "  Stored in directory: /tmp/pip-ephem-wheel-cache-cx6t04im/wheels/93/84/2f/409c7b2bb3afc3aa727f7ee8787975e0793f74d1165f4d0104\n",
      "  Building wheel for pandocfilters (setup.py): started\n",
      "  Building wheel for pandocfilters (setup.py): finished with status 'done'\n",
      "  Stored in directory: /tmp/pip-ephem-wheel-cache-cx6t04im/wheels/39/01/56/f1b08a6275acc59e846fa4c1e1b65dbc1919f20157d9e66c20\n",
      "  Building wheel for prometheus-client (setup.py): started\n",
      "  Building wheel for prometheus-client (setup.py): finished with status 'done'\n",
      "  Stored in directory: /tmp/pip-ephem-wheel-cache-cx6t04im/wheels/1c/54/34/fd47cd9b308826cc4292b54449c1899a30251ef3b506bc91ea\n",
      "  Building wheel for pyrsistent (setup.py): started\n",
      "  Building wheel for pyrsistent (setup.py): finished with status 'done'\n",
      "  Stored in directory: /tmp/pip-ephem-wheel-cache-cx6t04im/wheels/c2/85/ad/bc6d41e2c4b35c9fdfed48f0fcd411ffc4164e67755ddf9ebb\n",
      "  Building wheel for backcall (setup.py): started\n",
      "  Building wheel for backcall (setup.py): finished with status 'done'\n",
      "  Stored in directory: /tmp/pip-ephem-wheel-cache-cx6t04im/wheels/98/b0/dd/29e28ff615af3dda4c67cab719dd51357597eabff926976b45\n",
      "Successfully built pyyaml tornado pandocfilters prometheus-client pyrsistent backcall\n",
      "Installing collected packages: pyyaml, six, pyrsistent, zipp, importlib-metadata, attrs, jsonschema, ipython-genutils, decorator, traitlets, jupyter-core, nbformat, textwrap3, ansiwrap, click, idna, urllib3, chardet, certifi, requests, tqdm, pathspec, appdirs, toml, regex, typed-ast, black, tenacity, tornado, pyzmq, python-dateutil, jupyter-client, async-generator, nest-asyncio, nbclient, entrypoints, papermill, wcwidth, prompt-toolkit, ptyprocess, pexpect, pygments, pickleshare, parso, jedi, backcall, ipython, ipykernel, jupyter-console, Send2Trash, terminado, testpath, MarkupSafe, jinja2, mistune, defusedxml, webencodings, pyparsing, packaging, bleach, pandocfilters, nbconvert, prometheus-client, notebook, widgetsnbextension, ipywidgets, qtpy, qtconsole, jupyter\n",
      "Successfully installed MarkupSafe-1.1.1 Send2Trash-1.5.0 ansiwrap-0.8.4 appdirs-1.4.4 async-generator-1.10 attrs-19.3.0 backcall-0.1.0 black-19.10b0 bleach-3.1.5 certifi-2020.4.5.1 chardet-3.0.4 click-7.1.2 decorator-4.4.2 defusedxml-0.6.0 entrypoints-0.3 idna-2.9 importlib-metadata-1.6.0 ipykernel-5.2.1 ipython-7.14.0 ipython-genutils-0.2.0 ipywidgets-7.5.1 jedi-0.17.0 jinja2-2.11.2 jsonschema-3.2.0 jupyter-1.0.0 jupyter-client-6.1.3 jupyter-console-6.1.0 jupyter-core-4.6.3 mistune-0.8.4 nbclient-0.2.0 nbconvert-5.6.1 nbformat-5.0.6 nest-asyncio-1.3.3 notebook-6.0.3 packaging-20.3 pandocfilters-1.4.2 papermill-2.1.1 parso-0.7.0 pathspec-0.8.0 pexpect-4.8.0 pickleshare-0.7.5 prometheus-client-0.7.1 prompt-toolkit-3.0.5 ptyprocess-0.6.0 pygments-2.6.1 pyparsing-2.4.7 pyrsistent-0.16.0 python-dateutil-2.8.1 pyyaml-5.3.1 pyzmq-19.0.1 qtconsole-4.7.3 qtpy-1.9.0 regex-2020.5.7 requests-2.23.0 six-1.14.0 tenacity-6.2.0 terminado-0.8.3 testpath-0.4.4 textwrap3-0.9.2 toml-0.10.0 tornado-6.0.4 tqdm-4.46.0 traitlets-4.\n",
      "3.3 typed-ast-1.4.1 urllib3-1.25.9 wcwidth-0.1.9 webencodings-0.5.1 widgetsnbextension-3.5.1 zipp-3.1.0\n",
      "WARNING: You are using pip version 19.1.1, however version 20.1 is available.\n",
      "You should consider upgrading via the 'pip install --upgrade pip' command.\n",
      "\u001b[36mINFO\u001b[0m[0052] Taking snapshot of full filesystem...\n",
      "\u001b[36mINFO\u001b[0m[0059] Using files from context: [/kaniko/buildcontext/app]\n",
      "\u001b[36mINFO\u001b[0m[0059] COPY /app/ /app/\n",
      "\u001b[36mINFO\u001b[0m[0059] Taking snapshot of files...\n"
     ]
    },
    {
     "name": "stderr",
     "output_type": "stream",
     "text": [
      "[W 200512 17:55:48 aws:70] Not able to find aws credentials secret: aws-secret\n",
      "[W 200512 17:55:48 job:101] The job fairing-job-gb87f launched.\n",
      "[W 200512 17:55:48 manager:296] Waiting for fairing-job-gb87f-6hkml to start...\n",
      "[W 200512 17:55:48 manager:296] Waiting for fairing-job-gb87f-6hkml to start...\n",
      "[W 200512 17:55:49 manager:296] Waiting for fairing-job-gb87f-6hkml to start...\n",
      "[I 200512 17:55:54 manager:302] Pod started running True\n"
     ]
    },
    {
     "name": "stdout",
     "output_type": "stream",
     "text": [
      "Input Notebook:  train.ipynb\n",
      "Output Notebook: fairing_output_notebook.ipynb\n",
      "Executing notebook with kernel: python3\n",
      "Executing Cell 1---------------------------------------\n",
      "training in notebook!\n",
      "\n",
      "Ending Cell 1------------------------------------------\n"
     ]
    },
    {
     "name": "stderr",
     "output_type": "stream",
     "text": [
      "[W 200512 17:55:57 job:173] Cleaning up job fairing-job-gb87f...\n"
     ]
    },
    {
     "data": {
      "text/plain": [
       "'fairing-job-gb87f'"
      ]
     },
     "execution_count": 16,
     "metadata": {},
     "output_type": "execute_result"
    }
   ],
   "source": [
    "job = TrainJob(\"train.ipynb\", docker_registry=DOCKER_REGISTRY, backend=KubeflowAWSBackend(), input_files=[\"requirements.txt\"])\n",
    "job.submit()"
   ]
  },
  {
   "cell_type": "markdown",
   "metadata": {},
   "source": [
    "## Executing it with large #CPUs and huge Memory\n",
    "You Kubernetes cluster should have a node pool that can satisfy these resource requests. For example, to schedule a job with 90 cpus and 600GB memory you need a nodepool created using n1-hihmem-624 in GCP."
   ]
  },
  {
   "cell_type": "code",
   "execution_count": 4,
   "metadata": {},
   "outputs": [
    {
     "name": "stdout",
     "output_type": "stream",
     "text": [
      "CPU count: 4\n",
      "Memory: {} 15.48276138305664\n"
     ]
    }
   ],
   "source": [
    "import multiprocessing\n",
    "import os\n",
    "def train():\n",
    "    print(\"CPU count: {}\".format(multiprocessing.cpu_count()))\n",
    "    print(\"Memory: {}\", os.sysconf('SC_PAGE_SIZE') * os.sysconf('SC_PHYS_PAGES')/(1024.**3))\n",
    "train()"
   ]
  },
  {
   "cell_type": "code",
   "execution_count": null,
   "metadata": {
    "scrolled": true
   },
   "outputs": [
    {
     "name": "stderr",
     "output_type": "stream",
     "text": [
      "[W 200512 18:19:53 tasks:54] Using default base docker image: registry.hub.docker.com/library/python:3.6.8\n",
      "[W 200512 18:19:54 tasks:62] Using builder: <class 'kubeflow.fairing.builders.append.append.AppendBuilder'>\n",
      "[I 200512 18:19:54 tasks:66] Building the docker image.\n",
      "[W 200512 18:19:54 append:50] Building image using Append builder...\n",
      "[I 200512 18:19:54 base:107] Creating docker context: /tmp/fairing_context_5zen9xzl\n",
      "[W 200512 18:19:54 base:94] /home/jovyan/.local/lib/python3.6/site-packages/kubeflow/fairing/__init__.py already exists in Fairing context, skipping...\n",
      "[I 200512 18:19:54 docker_creds_:234] Loading Docker credentials for repository 'registry.hub.docker.com/library/python:3.6.8'\n",
      "[W 200512 18:19:55 append:54] Image successfully built in 0.7928623129846528s.\n",
      "[W 200512 18:19:55 append:94] Pushing image 958854133286.dkr.ecr.us-east-1.amazonaws.com/fairing-job:1FD3F57...\n",
      "[I 200512 18:19:55 docker_creds_:234] Loading Docker credentials for repository '958854133286.dkr.ecr.us-east-1.amazonaws.com/fairing-job:1FD3F57'\n",
      "[W 200512 18:19:55 append:81] Uploading 958854133286.dkr.ecr.us-east-1.amazonaws.com/fairing-job:1FD3F57\n",
      "[I 200512 18:19:55 docker_session_:280] Layer sha256:7159b3304cc0ff68a7903c2660aa37fdae97a02164449400c6ef283a6aaf3879 exists, skipping\n",
      "[I 200512 18:19:55 docker_session_:280] Layer sha256:372744b62d49eba993652ee4a1201801fe278b687d85489101e07e7b9a4900e0 exists, skipping\n",
      "[I 200512 18:19:55 docker_session_:280] Layer sha256:494c27a8a6b820f9167ec7e368b3a9bb47d7029f4dc8c97c67091f3757a5bc4e exists, skipping\n",
      "[I 200512 18:19:55 docker_session_:280] Layer sha256:7596bb83081b6c8410df557d538a0ae45922cbf81e469c6f4cfa835247cb24ab exists, skipping\n",
      "[I 200512 18:19:55 docker_session_:280] Layer sha256:615db220d76c063138a2e6c5849703a7a80d682a682f7e1a841e6e7ed5f43879 exists, skipping\n",
      "[I 200512 18:19:55 docker_session_:280] Layer sha256:ad0713808ef687d1e541819f50497506f5dce12604d1af54dbae153d61d5cf21 exists, skipping\n",
      "[I 200512 18:19:55 docker_session_:280] Layer sha256:7ba59390457320287875a9c381fee7936b50ecfd21abfe3c50278ac2f39b9786 exists, skipping\n",
      "[I 200512 18:19:55 docker_session_:280] Layer sha256:1865698adfb04b47d1aa53e0f8dac0a511d78285cb4dda39b4f3b0b3b091bb2e exists, skipping\n",
      "[I 200512 18:19:55 docker_session_:280] Layer sha256:6f2f362378c5a6fd915d96d11dda1e0223ccf213bf121ace56ae0f6616ea1dc8 exists, skipping\n",
      "[I 200512 18:19:56 docker_session_:284] Layer sha256:c6db875577c4eaa56b94fd28ae88dd1b88c8233dca29326f54b3e4548a82389f pushed.\n",
      "[I 200512 18:19:56 docker_session_:284] Layer sha256:570ddbcdfff4892bc6b1b1207cd9480692a39426befa4354516fd0b648737a47 pushed.\n",
      "[I 200512 18:19:56 docker_session_:334] Finished upload of: 958854133286.dkr.ecr.us-east-1.amazonaws.com/fairing-job:1FD3F57\n",
      "[W 200512 18:19:56 append:99] Pushed image 958854133286.dkr.ecr.us-east-1.amazonaws.com/fairing-job:1FD3F57 in 0.6340620890259743s.\n",
      "[W 200512 18:19:56 aws:70] Not able to find aws credentials secret: aws-secret\n",
      "[W 200512 18:19:56 aws:70] Not able to find aws credentials secret: aws-secret\n",
      "[W 200512 18:19:56 job:101] The job fairing-job-f58cd launched.\n",
      "[W 200512 18:19:56 manager:296] Waiting for fairing-job-f58cd-7xzvw to start...\n",
      "[W 200512 18:19:56 manager:296] Waiting for fairing-job-f58cd-7xzvw to start...\n"
     ]
    }
   ],
   "source": [
    "job = TrainJob(train, base_docker_image=None, docker_registry=DOCKER_REGISTRY,  backend=KubeflowAWSBackend(), \n",
    "              pod_spec_mutators=[get_resource_mutator(cpu=90, memory=600)])\n",
    "job.submit()"
   ]
  },
  {
   "cell_type": "code",
   "execution_count": null,
   "metadata": {},
   "outputs": [],
   "source": []
  }
 ],
 "metadata": {
  "kernelspec": {
   "display_name": "Python 3",
   "language": "python",
   "name": "python3"
  },
  "kubeflow_notebook": {
   "docker_image": "balluk/kubeflow-kale",
   "experiment": {
    "id": "",
    "name": ""
   },
   "experiment_name": "",
   "pipeline_description": "",
   "pipeline_name": "",
   "volumes": []
  },
  "language_info": {
   "codemirror_mode": {
    "name": "ipython",
    "version": 3
   },
   "file_extension": ".py",
   "mimetype": "text/x-python",
   "name": "python",
   "nbconvert_exporter": "python",
   "pygments_lexer": "ipython3",
   "version": "3.6.8"
  }
 },
 "nbformat": 4,
 "nbformat_minor": 4
}
